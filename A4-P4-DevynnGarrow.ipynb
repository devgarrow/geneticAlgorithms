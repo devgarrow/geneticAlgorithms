{
 "cells": [
  {
   "cell_type": "code",
   "execution_count": 2,
   "metadata": {},
   "outputs": [],
   "source": [
    "import numpy as np\n",
    "import random\n",
    "\n",
    "# number of ones in a binary chromosome of length 20\n",
    "def fitness_function(chromosome):\n",
    "    # insert code\n",
    "    fitness = chromosome.count(1)\n",
    "    return fitness\n",
    "\n",
    "def initialize_population(population_size, chromosome_length):\n",
    "    # insert code\n",
    "    population = []\n",
    "    for i in range(0, population_size):\n",
    "        chromosome = []\n",
    "        # Randomly initializes genes in chromosome to 0 or 1 with equal probability\n",
    "        for j in range(0, chromosome_length):\n",
    "            r = random.random()\n",
    "            if(r <= 0.5):\n",
    "                chromosome.append(0)\n",
    "            else:\n",
    "                chromosome.append(1)\n",
    "        population.append(chromosome)\n",
    "    return population\n",
    "\n",
    "def roulette_wheel_selection(population, fitness_values):\n",
    "      # insert code\n",
    "    totalFitness = np.sum(fitness_values)\n",
    "    crf = []\n",
    "    for i in range(0, len(population)):\n",
    "        crf.append(np.sum(fitness_values[:i+1])/totalFitness) # check indexing\n",
    "    \n",
    "    # Select first individual\n",
    "    r = random.random()\n",
    "    individualCrf1 = next(x[0] for x in enumerate(crf) if x[1] > r)\n",
    "    individual1 = population[individualCrf1]\n",
    "\n",
    "    #Select second individual\n",
    "    r = random.random()\n",
    "    individualCrf2 = next(x[0] for x in enumerate(crf) if x[1] > r)\n",
    "    individual2 = population[individualCrf2]\n",
    "    \n",
    "    return individual1, individual2\n",
    "\n",
    "def single_point_crossover(parent1, parent2, crossover_rate):\n",
    "    # insert code\n",
    "    chromosome1 = parent1\n",
    "    chromosome2 = parent2\n",
    "    # Determine if crossover should occur\n",
    "    r1 = random.random()\n",
    "    if(r1 < crossover_rate):\n",
    "        crossoverPoint = random.randint(1, len(parent1))\n",
    "        chromosome1 = parent1[:crossoverPoint] + parent2[crossoverPoint:]\n",
    "        chromosome2 = parent2[:crossoverPoint] + parent1[crossoverPoint:]\n",
    "    return chromosome1, chromosome2\n",
    "\n",
    "def bitwise_mutation(child, mutation_rate):\n",
    "    # insert code\n",
    "    mutatedChild = child\n",
    "    for i in range(0, len(mutatedChild)):\n",
    "        r = random.random()\n",
    "        if(r < mutation_rate):\n",
    "            if(mutatedChild[i] == 0):\n",
    "                mutatedChild[i] = 1\n",
    "            elif(mutatedChild[i] == 1):\n",
    "                mutatedChild[i] = 0\n",
    "    return mutatedChild\n",
    "\n",
    "def genetic_algorithm(population_size, chromosome_length, crossover_rate, mutation_rate, runs):\n",
    "    generations_to_discovery = []\n",
    "    targetIndividual = np.ones(chromosome_length).tolist()\n",
    "    \n",
    "    for run in range(runs):\n",
    "        # insert code\n",
    "        population = initialize_population(population_size, chromosome_length)\n",
    "        count = 0\n",
    "        while(targetIndividual not in population):\n",
    "            newPopulation = []\n",
    "            fitness_values = []\n",
    "            for i in range(0, population_size):\n",
    "                fitness_values.append(fitness_function(population[i]))\n",
    "                \n",
    "            while(len(newPopulation) < population_size):\n",
    "                parent1, parent2 = roulette_wheel_selection(population, fitness_values)\n",
    "                child1, child2 = single_point_crossover(parent1, parent2, crossover_rate)\n",
    "                mutatedChild1 = bitwise_mutation(child1, mutation_rate)\n",
    "                mutatedChild2 = bitwise_mutation(child2, mutation_rate)\n",
    "                newPopulation.append(mutatedChild1)\n",
    "                newPopulation.append(mutatedChild2)\n",
    "\n",
    "            population = newPopulation\n",
    "            count = count + 1\n",
    "\n",
    "        generations_to_discovery.append(count)\n",
    "    return np.mean(generations_to_discovery)"
   ]
  },
  {
   "cell_type": "code",
   "execution_count": 3,
   "metadata": {},
   "outputs": [
    {
     "name": "stdout",
     "output_type": "stream",
     "text": [
      "Mutation Rate: 0.001, Crossover Rate: 0.7, Average Generations: 28.9\n",
      "Mutation Rate: 0.001, Crossover Rate: 0.5, Average Generations: 29.9\n",
      "Mutation Rate: 0.001, Crossover Rate: 0.3, Average Generations: 47.9\n",
      "Mutation Rate: 0.01, Crossover Rate: 0.7, Average Generations: 30.05\n",
      "Mutation Rate: 0.01, Crossover Rate: 0.5, Average Generations: 42.1\n",
      "Mutation Rate: 0.01, Crossover Rate: 0.3, Average Generations: 96.3\n",
      "Mutation Rate: 0.1, Crossover Rate: 0.7, Average Generations: 1374.3\n",
      "Mutation Rate: 0.1, Crossover Rate: 0.5, Average Generations: 1923.6\n",
      "Mutation Rate: 0.1, Crossover Rate: 0.3, Average Generations: 4544.3\n"
     ]
    }
   ],
   "source": [
    "# Perform experiments with different mutation and crossover rates\n",
    "mutation_rates = [0.001, 0.01, 0.1]\n",
    "crossover_rates = [0.7, 0.5, 0.3]\n",
    "runs = 20\n",
    "\n",
    "for mutation_rate in mutation_rates:\n",
    "    for crossover_rate in crossover_rates:\n",
    "        avg_generations = genetic_algorithm(100, 20, crossover_rate, mutation_rate, runs)\n",
    "        print(f\"Mutation Rate: {mutation_rate}, Crossover Rate: {crossover_rate}, Average Generations: {avg_generations}\")"
   ]
  },
  {
   "cell_type": "markdown",
   "metadata": {},
   "source": [
    "A higher mutation rate causes a much longer duration to find the optimal string, and lower crossover rates result in slower convergence (more generations required)."
   ]
  },
  {
   "cell_type": "code",
   "execution_count": null,
   "metadata": {},
   "outputs": [
    {
     "name": "stdout",
     "output_type": "stream",
     "text": [
      "Mutation Rate: 0.001, Crossover Rate: 0.1, Average Generations: 107.8\n"
     ]
    }
   ],
   "source": [
    "# Perform experiments with different mutation and crossover rates\n",
    "mutation_rates = [0.001, 0.01]\n",
    "crossover_rates = [0.1, 0]\n",
    "runs = 5\n",
    "\n",
    "for mutation_rate in mutation_rates:\n",
    "    for crossover_rate in crossover_rates:\n",
    "        avg_generations = genetic_algorithm(100, 20, crossover_rate, mutation_rate, runs)\n",
    "        print(f\"Mutation Rate: {mutation_rate}, Crossover Rate: {crossover_rate}, Average Generations: {avg_generations}\")\n"
   ]
  },
  {
   "cell_type": "markdown",
   "metadata": {},
   "source": [
    "Attempting to run the classification with 0 crossover causes the code to timeout, as it takes far too many generations with mutation alone to reach to optimized individual.  This makes sense, as with mutation, even genes that contribute to higher fitness values (i.e. genes that = 1) can undergo mutation, meaning that the probability that all genes become equal to 1 is very low."
   ]
  },
  {
   "cell_type": "code",
   "execution_count": null,
   "metadata": {},
   "outputs": [],
   "source": []
  },
  {
   "cell_type": "code",
   "execution_count": null,
   "metadata": {},
   "outputs": [],
   "source": []
  }
 ],
 "metadata": {
  "kernelspec": {
   "display_name": "Python 3 (ipykernel)",
   "language": "python",
   "name": "python3"
  },
  "language_info": {
   "codemirror_mode": {
    "name": "ipython",
    "version": 3
   },
   "file_extension": ".py",
   "mimetype": "text/x-python",
   "name": "python",
   "nbconvert_exporter": "python",
   "pygments_lexer": "ipython3",
   "version": "3.11.5"
  }
 },
 "nbformat": 4,
 "nbformat_minor": 4
}
